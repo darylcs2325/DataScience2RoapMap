{
 "cells": [
  {
   "cell_type": "markdown",
   "metadata": {},
   "source": [
    "# PREVIUS\n",
    "\n",
    "In this chapter this explains the topics for understand the next chapters.\n",
    "The list of topics is as follows:\n",
    "* \\*args and \\**kwargs\n",
    "* Iterators\n",
    "* Decoradors"
   ]
  },
  {
   "cell_type": "markdown",
   "metadata": {},
   "source": [
    "## Chapter 1:\n",
    "### *args\n",
    "We use \\*args to reference a multiple arguments\n",
    "\n",
    "### \\*\\*kwargs\n",
    "We use \\**kwargs to reference a multiple kwargs arguments"
   ]
  },
  {
   "cell_type": "code",
   "execution_count": 59,
   "metadata": {},
   "outputs": [],
   "source": [
    "# We normally do this, but this can be replaced for by\n",
    "def add(num1, num2, num3):\n",
    "    return num1 + num2 + num3\n",
    "# But, when we don't kwnoledge number of arguments, it's better to use\n",
    "def add_(*args):\n",
    "    print(f'A tuple is returned -> {args}')\n",
    "    return f'Sum of the elemts of the tuple: {sum(args)}\\n'\n",
    "\n",
    "# Now, when we want to use with keywords arguments, we haven to use *kwargs\n",
    "def product(num1 = 2, num2 = 4, num3 = 6):\n",
    "    return num1*num2*num3\n",
    "\n",
    "def product_(**kwargs):\n",
    "    a=1\n",
    "    for _, value in kwargs.items():\n",
    "        a *= value\n",
    "    print(f'A dictionary is returned -> {kwargs}')\n",
    "    return f'Product of the elements of the dictionary: {a}'"
   ]
  },
  {
   "cell_type": "code",
   "execution_count": 60,
   "metadata": {},
   "outputs": [
    {
     "name": "stdout",
     "output_type": "stream",
     "text": [
      "A tuple is returned -> (2, 5, 6, 5)\n",
      "Sum of the elemts of the tuple: 18\n",
      "\n",
      "A dictionary is returned -> {'num1': 3, 'num2': 5, 'dawda': 5}\n",
      "Product of the elements of the dictionary: 75\n"
     ]
    }
   ],
   "source": [
    "print(add_(2,5, 6, 5))\n",
    "\n",
    "print(product_(num1 = 3, num2= 5, dawda=5))"
   ]
  }
 ],
 "metadata": {
  "kernelspec": {
   "display_name": "Python 3",
   "language": "python",
   "name": "python3"
  },
  "language_info": {
   "codemirror_mode": {
    "name": "ipython",
    "version": 3
   },
   "file_extension": ".py",
   "mimetype": "text/x-python",
   "name": "python",
   "nbconvert_exporter": "python",
   "pygments_lexer": "ipython3",
   "version": "3.8.5"
  }
 },
 "nbformat": 4,
 "nbformat_minor": 4
}
